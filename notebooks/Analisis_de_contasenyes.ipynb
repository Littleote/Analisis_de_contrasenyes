{
 "cells": [
  {
   "cell_type": "markdown",
   "id": "5695a185",
   "metadata": {},
   "source": [
    "# CAS KAGGLE: Analisis de la seguretat de contrasenyes"
   ]
  },
  {
   "cell_type": "markdown",
   "id": "f55bbb0d",
   "metadata": {},
   "source": [
    "### David Candela"
   ]
  },
  {
   "cell_type": "code",
   "execution_count": null,
   "id": "cd74bde3",
   "metadata": {},
   "outputs": [],
   "source": [
    "#pandas\n",
    "#numpy\n",
    "#scipy\n",
    "#scikit-learn\n",
    "#pytorch\n",
    "#from torchvision: datasets, transforms\n",
    "#tensorflow\n",
    "#onnx\n",
    "#xgboost\n",
    "#catboost\n",
    "#argparse"
   ]
  },
  {
   "cell_type": "markdown",
   "id": "27016821",
   "metadata": {},
   "source": [
    "https://datauab.github.io/  \n",
    "https://www.kaggle.com/bhavikbb/password-strength-classifier-dataset"
   ]
  },
  {
   "cell_type": "markdown",
   "id": "5650e2b7",
   "metadata": {},
   "source": [
    "1. Predictability:\n",
    " + Mean of predictability for the next character\n",
    "    - Train to give probabilities for any $p_i$ given $\\left\\{p_{i-1},\\,\\ldots,\\,p_{i-k}\\right\\}$\n",
    "    - Join probabilities $\\sum_i{p_i} < Treshold$ or $\\prod_i{p_i} < Treshold$\n",
    "2. Character distribution\n",
    " + Extract characteristics of password (character type amounts, type sequence length, repeate character count)\n",
    " + "
   ]
  },
  {
   "cell_type": "code",
   "execution_count": null,
   "id": "ccf8d253",
   "metadata": {},
   "outputs": [],
   "source": [
    "Minuscules = [chr(c) for c in range(ord('a'), ord('z') + 1)]\n",
    "Majuscules = [chr(c) for c in range(ord('A'), ord('Z') + 1)]\n",
    "Xifres = [str(i) for i in range(10)]\n",
    "Especials = ['.', ';', '-', '_', '+', '*', '<', '>', '[', ']', '{', '}', \\\n",
    "             '(', ')', '@', '#', '$', '%', '&', '/', '\\\\', '?', '!', '=', \\\n",
    "             '^', '~', ' ']\n",
    "CaractersValids = Minuscules + Majuscules + Xifres + Especials\n",
    "\n",
    "def isValid(contrasenya):\n",
    "    try:\n",
    "        # Treure les contrasenyes amb caracters que no consideri valids\n",
    "        #   ja que no importa el format de descodificació especificat,\n",
    "        #   Python es incapaç de llegir correctament tots els diferents caràcters\n",
    "        #   caracters i sempre en surten de l'estil '\\x03', '\\x0f', '\\x8d'\n",
    "        #   o també §, ¶, ­, þ, ¤, ...\n",
    "        return all(c in CaractersValids for c in contrasenya)\n",
    "    except:\n",
    "        # Truere les contrasenyes que Pandas converteixi continuament a float\n",
    "        #   tot i que s'ha marcat la columna de passwords com strings\n",
    "        return False"
   ]
  },
  {
   "cell_type": "code",
   "execution_count": null,
   "id": "3e882b98",
   "metadata": {},
   "outputs": [],
   "source": [
    "import os.path\n",
    "import pandas as pd\n",
    "import numpy as np\n",
    "\n",
    "path = '../data/'\n",
    "data_name = 'data.csv'\n",
    "clean_name = 'clean_data.csv'\n",
    "data_file = path + data_name\n",
    "clean_file = path + clean_name\n",
    "regenerate_file = False\n",
    "\n",
    "if regenerate_file or not os.path.isfile(clean_file):\n",
    "    assert os.path.isfile(data_file)\n",
    "    # Saltarse les files on les dades no estiguin ben formategades\n",
    "    dataset = pd.read_csv(data_file, on_bad_lines='skip', encoding='utf-8', dtype={'password': str, 'strength': np.int64})\n",
    "    # Treure les dades que contenen caracters que no acceptem\n",
    "    dataset = dataset[dataset.apply(lambda s: isValid(s['password']), axis=1)]\n",
    "    # Guardar el nou dataset a un fitxer apart\n",
    "    dataset.to_csv(clean_file, index=False)\n",
    "    \n",
    "dataset = pd.read_csv(clean_file)\n",
    "dades = dataset.values\n",
    "contrasenyes = dades[:,0]\n",
    "proteccio = dades[:,1]\n",
    "noms = dataset.columns.values"
   ]
  },
  {
   "cell_type": "code",
   "execution_count": null,
   "id": "800c515a",
   "metadata": {},
   "outputs": [],
   "source": [
    "dataset.head()"
   ]
  },
  {
   "cell_type": "code",
   "execution_count": null,
   "id": "5f31d106",
   "metadata": {},
   "outputs": [],
   "source": [
    "dataset.describe()"
   ]
  },
  {
   "cell_type": "code",
   "execution_count": null,
   "id": "c756be57",
   "metadata": {},
   "outputs": [],
   "source": [
    "dataset.hist()"
   ]
  },
  {
   "cell_type": "markdown",
   "id": "1d87fb03",
   "metadata": {},
   "source": [
    "## Predictabilitat"
   ]
  },
  {
   "cell_type": "code",
   "execution_count": null,
   "id": "9c12f871",
   "metadata": {},
   "outputs": [],
   "source": [
    "def recompte(contrasenya, individual, predictabilitat):\n",
    "    c_ = ''\n",
    "    for c in contrasenya:\n",
    "        predictabilitat[c_][c] += 1\n",
    "        predictabilitat[c_]['total'] += 1\n",
    "        individual[c] += 1\n",
    "        individual['total'] += 1\n",
    "        c_ = c\n",
    "\n",
    "individual = {c:0 for c in CaractersValids + ['total']}\n",
    "predictabilitat = {c:{c:1 if not c == 'total' else len(CaractersValids) for c in CaractersValids + ['total']} for c in CaractersValids + ['']}\n",
    "\n",
    "for p in dades[:,0]:\n",
    "    recompte(p, individual, predictabilitat)\n",
    "\n",
    "individual_total = individual['total']\n",
    "predictabilitat_total = {c:predictabilitat[c]['total'] for c in predictabilitat.keys()}\n",
    "\n",
    "individual.pop('total')\n",
    "for k in predictabilitat.keys():\n",
    "    predictabilitat[k].pop('total')"
   ]
  },
  {
   "cell_type": "code",
   "execution_count": null,
   "id": "75a0902c",
   "metadata": {},
   "outputs": [],
   "source": [
    "import seaborn as sns\n",
    "import matplotlib.pyplot as plt\n",
    "from matplotlib.colors import LogNorm, Normalize\n",
    "\n",
    "plt.subplots(figsize=(20, 18))\n",
    "plt.bar(individual.keys(), individual.values())\n",
    "plt.show()\n",
    "\n",
    "plt.subplots(figsize=(20, 18))\n",
    "sns.heatmap([[e for e in d.values()] for d in predictabilitat.values()], \\\n",
    "            xticklabels=CaractersValids, yticklabels=CaractersValids + ['inici'], square=True, norm=LogNorm())\n",
    "plt.xlabel(\"Segon\")\n",
    "plt.ylabel(\"Primer\")\n",
    "plt.title(\"Sequencies\")\n",
    "plt.show()"
   ]
  },
  {
   "cell_type": "code",
   "execution_count": null,
   "id": "7089e560",
   "metadata": {
    "scrolled": false
   },
   "outputs": [],
   "source": [
    "def probabilitat_caracters(x):\n",
    "    res = 1\n",
    "    for c in x:\n",
    "        res *= individual.get(c, 1)\n",
    "    return res / (individual_total ** len(x))\n",
    "\n",
    "def probabilitat_sequencia(x):\n",
    "    res = 1\n",
    "    c_ = ''\n",
    "    for c in x:\n",
    "        if c not in CaractersValids:\n",
    "            continue\n",
    "        res *= predictabilitat[c_][c] / predictabilitat_total[c_]\n",
    "        c_ = c\n",
    "    return res\n",
    "\n",
    "def aleatorietat(x):\n",
    "    res = 1\n",
    "    c_ = ''\n",
    "    for c in x:\n",
    "        if c not in CaractersValids:\n",
    "            continue\n",
    "        res *= individual[c] / predictabilitat[c_][c] * predictabilitat_total[c_] / individual_total\n",
    "        c_ = c\n",
    "    return res\n",
    "\n",
    "def llargada(x):\n",
    "    return len(x)"
   ]
  },
  {
   "cell_type": "code",
   "execution_count": null,
   "id": "b2de1006",
   "metadata": {},
   "outputs": [],
   "source": [
    "dades_caracters = np.vectorize(probabilitat_caracters)(contrasenyes)\n",
    "dades_sequencia = np.vectorize(probabilitat_sequencia)(contrasenyes)\n",
    "dades_aleatorietat = np.vectorize(aleatorietat)(contrasenyes)\n",
    "dades_llargada = np.vectorize(llargada)(contrasenyes)\n",
    "\n",
    "dades_predictabilitat = np.stack((dades_caracters, dades_sequencia, dades_aleatorietat, dades_llargada), axis=-1)"
   ]
  },
  {
   "cell_type": "code",
   "execution_count": null,
   "id": "d49a8d2f",
   "metadata": {},
   "outputs": [],
   "source": []
  },
  {
   "cell_type": "code",
   "execution_count": null,
   "id": "bac416db",
   "metadata": {},
   "outputs": [],
   "source": [
    "from sklearn.metrics import confusion_matrix, accuracy_score\n",
    "from sklearn.linear_model import LogisticRegression\n",
    "from sklearn.preprocessing import Normalizer\n",
    "\n",
    "def regression(x, y):\n",
    "    # Creem un objecte de regressió de sklearn\n",
    "    regr = LogisticRegression(max_iter=1000)\n",
    "\n",
    "    # Entrenem el model per a predir y a partir de x\n",
    "    regr.fit(x, y)\n",
    "\n",
    "    # Retornem el model entrenat\n",
    "    return regr\n",
    "\n",
    "def visualize_confusion_matrix(y_pred, y_real):\n",
    "    #mostra la matriu de confusió\n",
    "    cm = confusion_matrix(y_real, y_pred)\n",
    "    plt.subplots(figsize=(10, 6))\n",
    "    sns.heatmap(cm, annot = True, fmt = 'g')\n",
    "    plt.xlabel(\"Predicted\")\n",
    "    plt.ylabel(\"Actual\")\n",
    "    plt.title(\"Confusion Matrix\")\n",
    "    plt.show()\n",
    "\n",
    "objectius = dades[:,1].astype(int)\n",
    "dades_test = dades_predictabilitat\n",
    "# dades_test = dades_test[objectius != 2, :][:,[2]]\n",
    "# objectius = objectius[objectius != 2]\n",
    "\n",
    "transformer = Normalizer().fit(dades_test)\n",
    "r = regression(transformer.transform(dades_test), objectius)\n",
    "\n",
    "%matplotlib inline\n",
    "prediction = np.array([0 if len(x) < 8 else (2 if len(x) > 13 else 1) for x in dades[:,0]])\n",
    "visualize_confusion_matrix(prediction, objectius)\n"
   ]
  },
  {
   "cell_type": "code",
   "execution_count": null,
   "id": "fe88924a",
   "metadata": {},
   "outputs": [],
   "source": [
    "plt.subplots(figsize=(10, 6))\n",
    "ax = plt.gca()\n",
    "ax.set_xscale('log')\n",
    "plt.scatter(x=dades_llargada, y=objectius)\n",
    "plt.show()\n",
    "\n",
    "#Feature tools"
   ]
  },
  {
   "cell_type": "code",
   "execution_count": null,
   "id": "eb799824",
   "metadata": {},
   "outputs": [],
   "source": [
    "for i in range(3):\n",
    "    print(min(dades_llargada[objectius == i]), max(dades_llargada[objectius == i]))"
   ]
  },
  {
   "cell_type": "code",
   "execution_count": null,
   "id": "ba39bb5e",
   "metadata": {},
   "outputs": [],
   "source": [
    "import ipywidgets as widgets\n",
    "password = widgets.Text()\n",
    "probabilitat = widgets.Label()\n",
    "sequential = widgets.Label()\n",
    "randomnes = widgets.Label()\n",
    "strength = widgets.Label()\n",
    "\n",
    "def form(x):\n",
    "    return np.array([[probabilitat_caracters(x), probabilitat_sequencia(x), aleatorietat(x), llargada(x)]])\n",
    "\n",
    "def on_value_change(change):\n",
    "    probabilitat.value='probability: ' + str(probabilitat_caracters(change['new']))\n",
    "    sequential.value='sequential: ' + str(probabilitat_sequencia(change['new']))\n",
    "    randomnes.value='randomnes: ' + str(aleatorietat(change['new']))\n",
    "    strength.value='strength: ' + str(0 if len(change['new']) < 8 else (2 if len(change['new']) > 13 else 1))\n",
    "\n",
    "password.observe(on_value_change, names='value')\n",
    "display(password, probabilitat, sequential, randomnes, strength)"
   ]
  }
 ],
 "metadata": {
  "kernelspec": {
   "display_name": "Python 3 (ipykernel)",
   "language": "python",
   "name": "python3"
  },
  "language_info": {
   "codemirror_mode": {
    "name": "ipython",
    "version": 3
   },
   "file_extension": ".py",
   "mimetype": "text/x-python",
   "name": "python",
   "nbconvert_exporter": "python",
   "pygments_lexer": "ipython3",
   "version": "3.7.10"
  }
 },
 "nbformat": 4,
 "nbformat_minor": 5
}
